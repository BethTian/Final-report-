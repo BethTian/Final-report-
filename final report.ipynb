{
 "cells": [
  {
   "cell_type": "markdown",
   "id": "7cd97ad5",
   "metadata": {},
   "source": [
    "## E2\n",
    "Final report"
   ]
  },
  {
   "cell_type": "markdown",
   "id": "84887e28",
   "metadata": {},
   "source": [
    "## E3\n",
    "This is an final report file\n"
   ]
  },
  {
   "cell_type": "markdown",
   "id": "f5e78fe2",
   "metadata": {},
   "source": [
    "## E4 \n",
    "# Popular Data Science Programming Languages\n",
    "\n",
    "- Python\n",
    "- R\n",
    "- Julia\n",
    "- SAS\n",
    "- MATLAB\n",
    "- SQL\n",
    "- Scala\n",
    "- Java\n",
    "- C/C++\n",
    "- JavaScript\n",
    "\n",
    "    "
   ]
  },
  {
   "cell_type": "markdown",
   "id": "082efbc8",
   "metadata": {},
   "source": [
    "## E5\n",
    "# Popular Data Science Libraries\n",
    "\n",
    "- NumPy\n",
    "- Pandas\n",
    "- Matplotlib\n",
    "- Seaborn\n",
    "- Scikit-learn\n",
    "- TensorFlow\n",
    "- Keras\n",
    "- PyTorch\n",
    "- SciPy\n",
    "- NLTK\n",
    "- OpenCV\n"
   ]
  },
  {
   "cell_type": "markdown",
   "id": "b4b346de",
   "metadata": {},
   "source": [
    "## E6\n",
    "# Data Science tools\n",
    "|Tool|Description|\n",
    "|------|-------|\n",
    "|Jupyter Notebook|Interactive coding environment|\n",
    "|Apache Hadoop|Distributed computing framework|\n",
    "|Apache Spark|\tDistributed data processing engine|\n",
    "|Tableau|\tData visualization tool|\n",
    "|PowerBI|\tBusiness intelligence tool|\n",
    "|Apache Cassandra\tNoSQL database| management system|\n",
    "|MySQL\tRelational database| management system|\n",
    "|Git|\tVersion control system|\n",
    "|Anaconda|\tPackage and environment management|\n"
   ]
  },
  {
   "cell_type": "markdown",
   "id": "0f6a7c0c",
   "metadata": {},
   "source": [
    "## E7 \n",
    "#  arithmetic expression examples\n",
    "Arithmetic expressions are mathematical statements that use numbers and mathematical operations, such as addition, subtraction, multiplication, and division, to represent a computation.\n",
    "- ’10 - 4‘: This expression represents the subtraction of the number 4 from 10, and evaluates to 6."
   ]
  },
  {
   "cell_type": "code",
   "execution_count": 5,
   "id": "1ee377b0",
   "metadata": {},
   "outputs": [
    {
     "name": "stdout",
     "output_type": "stream",
     "text": [
      "For number 2 and 3, the adding result is 5, while the multiplying result is 6\n"
     ]
    }
   ],
   "source": [
    "## E8\n",
    "a=2\n",
    "b=3\n",
    "#add numbers\n",
    "c=a+b\n",
    "#multiply numbers\n",
    "d = a*b\n",
    "print(f\"For number 2 and 3, the adding result is {c}, while the multiplying result is {d}\")"
   ]
  },
  {
   "cell_type": "code",
   "execution_count": 7,
   "id": "ea0c6a44",
   "metadata": {},
   "outputs": [
    {
     "name": "stdout",
     "output_type": "stream",
     "text": [
      "1.0\n"
     ]
    }
   ],
   "source": [
    "## E9\n",
    "\n",
    "def convertion(m):\n",
    "    hour = m/60\n",
    "    return hour\n",
    "\n",
    "print(convertion(60))"
   ]
  },
  {
   "cell_type": "markdown",
   "id": "a2311f8d",
   "metadata": {},
   "source": [
    "# E10\n",
    "## Objectives\n",
    "- Learn how to write Python code\n",
    "- Practice using Jupyter Notebook\n",
    "- Explore various Python libraries and frameworks\n",
    "- Build applications using Python\n",
    "- Develop problem-solving skills\n"
   ]
  },
  {
   "cell_type": "markdown",
   "id": "e8542da4",
   "metadata": {},
   "source": [
    "# E11\n",
    "Author： TIANWENJIA田雯嘉"
   ]
  }
 ],
 "metadata": {
  "kernelspec": {
   "display_name": "Python 3 (ipykernel)",
   "language": "python",
   "name": "python3"
  },
  "language_info": {
   "codemirror_mode": {
    "name": "ipython",
    "version": 3
   },
   "file_extension": ".py",
   "mimetype": "text/x-python",
   "name": "python",
   "nbconvert_exporter": "python",
   "pygments_lexer": "ipython3",
   "version": "3.10.9"
  }
 },
 "nbformat": 4,
 "nbformat_minor": 5
}
